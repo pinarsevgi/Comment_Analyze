{
 "cells": [
  {
   "cell_type": "code",
   "execution_count": 1,
   "id": "2633fd8f-4e5a-4cd0-9a54-70784e4c19c6",
   "metadata": {},
   "outputs": [],
   "source": [
    "from hepsiburada_scraper_v2 import HepsiburadaScraper\n",
    "import pandas as pd"
   ]
  },
  {
   "cell_type": "code",
   "execution_count": null,
   "id": "5800bbb4-b77f-4437-a969-08d8cfc06063",
   "metadata": {},
   "outputs": [],
   "source": [
    "url = \"https://www.hepsiburada.com/kiwi-kcc-4327-koltuk-ve-hali-yikama-makinesi-p-HBCV000077WVLU-yorumlari\"\n",
    "scraper = HepsiburadaScraper(url)\n",
    "reviews = scraper.scrape_reviews()"
   ]
  },
  {
   "cell_type": "code",
   "execution_count": null,
   "id": "5ccebc5f-e305-4dd4-a119-b0916edaed94",
   "metadata": {},
   "outputs": [],
   "source": [
    "reviews[:3]"
   ]
  },
  {
   "cell_type": "code",
   "execution_count": null,
   "id": "5d3946c1-babb-4319-a409-7fb338272b5d",
   "metadata": {
    "scrolled": true
   },
   "outputs": [],
   "source": [
    "data=pd.DataFrame(reviews,columns=[\"Comments\"])"
   ]
  },
  {
   "cell_type": "code",
   "execution_count": null,
   "id": "deb5493d-ec11-47fe-8f00-ab8eca45c112",
   "metadata": {},
   "outputs": [],
   "source": [
    "#\\n alanları boşuk ile değiştir \\n tipi str değilse hata vermesin\n",
    "data[\"Comments\"]=data[\"Comments\"].apply(lambda x: x.replace(\"\\n\", \" \") if isinstance(x,str) else x) "
   ]
  },
  {
   "cell_type": "code",
   "execution_count": null,
   "id": "7ff755bd-685e-48c4-a650-0eba963072a4",
   "metadata": {},
   "outputs": [],
   "source": [
    "data"
   ]
  },
  {
   "cell_type": "code",
   "execution_count": 7,
   "id": "d0129bf8-b0e3-4301-affa-5aa23d6f2b19",
   "metadata": {},
   "outputs": [
    {
     "name": "stdout",
     "output_type": "stream",
     "text": [
      "⚠️ Çerez butonu bulunamadı, devam ediliyor...\n",
      "📄 1. sayfadaki yorumlar çekiliyor...\n"
     ]
    }
   ],
   "source": [
    "url2 = \"https://www.hepsiburada.com/msi-katana-a15-ai-b8vg-434xtr-amd-ryzen-9-8945hs-32gb-1tb-ssd-rtx4070-freedos-15-6-fhd-144hz-tasinabilir-bilgisayar-p-HBCV000061YCY8-yorumlari\"\n",
    "scraper2 = HepsiburadaScraper(url2)\n",
    "reviews2 = scraper2.scrape_reviews()\n"
   ]
  },
  {
   "cell_type": "code",
   "execution_count": 13,
   "id": "d8ca6407-9775-48f8-99f0-59a1bb3ac80d",
   "metadata": {},
   "outputs": [
    {
     "data": {
      "text/html": [
       "<div>\n",
       "<style scoped>\n",
       "    .dataframe tbody tr th:only-of-type {\n",
       "        vertical-align: middle;\n",
       "    }\n",
       "\n",
       "    .dataframe tbody tr th {\n",
       "        vertical-align: top;\n",
       "    }\n",
       "\n",
       "    .dataframe thead th {\n",
       "        text-align: right;\n",
       "    }\n",
       "</style>\n",
       "<table border=\"1\" class=\"dataframe\">\n",
       "  <thead>\n",
       "    <tr style=\"text-align: right;\">\n",
       "      <th></th>\n",
       "      <th>Comments</th>\n",
       "    </tr>\n",
       "  </thead>\n",
       "  <tbody>\n",
       "    <tr>\n",
       "      <th>0</th>\n",
       "      <td>Laptobu yaklaşık 2 haftadır kullanıyorum. Şu a...</td>\n",
       "    </tr>\n",
       "    <tr>\n",
       "      <th>1</th>\n",
       "      <td>Oyun için mükemmel bir cihaz Değerlendirilen ö...</td>\n",
       "    </tr>\n",
       "    <tr>\n",
       "      <th>2</th>\n",
       "      <td>Tabiiki piyasadaki en iyi alet değil ancak isl...</td>\n",
       "    </tr>\n",
       "    <tr>\n",
       "      <th>3</th>\n",
       "      <td>3 aydır kullanıyorum, oynadığım oyunlar çok yü...</td>\n",
       "    </tr>\n",
       "    <tr>\n",
       "      <th>4</th>\n",
       "      <td>Değerlendirilen özellikler İşlemci 5 Hafıza 5 ...</td>\n",
       "    </tr>\n",
       "    <tr>\n",
       "      <th>5</th>\n",
       "      <td>Değerlendirilen özellikler İşlemci 5 Hafıza 5 ...</td>\n",
       "    </tr>\n",
       "  </tbody>\n",
       "</table>\n",
       "</div>"
      ],
      "text/plain": [
       "                                            Comments\n",
       "0  Laptobu yaklaşık 2 haftadır kullanıyorum. Şu a...\n",
       "1  Oyun için mükemmel bir cihaz Değerlendirilen ö...\n",
       "2  Tabiiki piyasadaki en iyi alet değil ancak isl...\n",
       "3  3 aydır kullanıyorum, oynadığım oyunlar çok yü...\n",
       "4  Değerlendirilen özellikler İşlemci 5 Hafıza 5 ...\n",
       "5  Değerlendirilen özellikler İşlemci 5 Hafıza 5 ..."
      ]
     },
     "execution_count": 13,
     "metadata": {},
     "output_type": "execute_result"
    }
   ],
   "source": [
    "data2=pd.DataFrame(reviews2,columns=[\"Comments\"])\n",
    "#\\n alanları boşuk ile değiştir \\n tipi str değilse hata vermesin\n",
    "data2[\"Comments\"]=data2[\"Comments\"].apply(lambda x: x.replace(\"\\n\", \" \") if isinstance(x,str) else x) \n",
    "data2"
   ]
  },
  {
   "cell_type": "code",
   "execution_count": null,
   "id": "dfa96647-d91b-4fd7-9e18-7cef3fb7ee5f",
   "metadata": {},
   "outputs": [],
   "source": []
  }
 ],
 "metadata": {
  "kernelspec": {
   "display_name": "Python 3 (ipykernel)",
   "language": "python",
   "name": "python3"
  },
  "language_info": {
   "codemirror_mode": {
    "name": "ipython",
    "version": 3
   },
   "file_extension": ".py",
   "mimetype": "text/x-python",
   "name": "python",
   "nbconvert_exporter": "python",
   "pygments_lexer": "ipython3",
   "version": "3.12.2"
  }
 },
 "nbformat": 4,
 "nbformat_minor": 5
}
